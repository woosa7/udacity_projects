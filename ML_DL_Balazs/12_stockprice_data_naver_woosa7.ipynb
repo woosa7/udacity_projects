{
 "cells": [
  {
   "cell_type": "code",
   "execution_count": 1,
   "metadata": {
    "collapsed": true
   },
   "outputs": [],
   "source": [
    "import pandas as pd\n",
    "\n",
    "%matplotlib inline\n",
    "import matplotlib.pyplot as plt"
   ]
  },
  {
   "cell_type": "markdown",
   "metadata": {},
   "source": [
    "네이버에서 특정 기업의 일별 주가 데이터 가져오기"
   ]
  },
  {
   "cell_type": "code",
   "execution_count": 2,
   "metadata": {
    "collapsed": true
   },
   "outputs": [],
   "source": [
    "# KT\n",
    "code = '030200'\n",
    "url_tmpl = 'http://finance.naver.com/item/sise_day.nhn?code=%s&page=%d'\n",
    "npages = 480"
   ]
  },
  {
   "cell_type": "code",
   "execution_count": 3,
   "metadata": {},
   "outputs": [
    {
     "name": "stdout",
     "output_type": "stream",
     "text": [
      "         date  close  change  open  high  low  volume\n",
      "0  2018-08-01      0       0     0     0    0       0\n"
     ]
    }
   ],
   "source": [
    "df_base = pd.DataFrame({\n",
    "    'code':[code],\n",
    "    'date':['2018-08-01'],\n",
    "    'close':[0],\n",
    "    'change':[0],\n",
    "    'open':[0],\n",
    "    'high':[0],\n",
    "    'low':[0],\n",
    "    'volume':[0]\n",
    "}, columns=['date', 'close', 'change', 'open', 'high', 'low', 'volume'])\n",
    "print(df_base)"
   ]
  },
  {
   "cell_type": "code",
   "execution_count": 4,
   "metadata": {},
   "outputs": [
    {
     "name": "stdout",
     "output_type": "stream",
     "text": [
      "400,\n",
      "300,\n",
      "200,\n",
      "100,\n",
      "Done\n"
     ]
    }
   ],
   "source": [
    "for p in range(npages, 0, -1):\n",
    "    url = url_tmpl % (code, p)\n",
    "    dfs = pd.read_html(url)\n",
    "    df_price = dfs[0]\n",
    "    df_price = df_price.dropna()\n",
    "    df_price.columns = ['date', 'close', 'change', 'open', 'high', 'low', 'volume']\n",
    "    df_price = df_price[1:]\n",
    "    df_price = df_price.replace('\\.', '-', regex=True)\n",
    "    # df_price['date'] = pd.to_datetime(df_price['date'])\n",
    "    int_cols = ['close', 'change', 'open', 'high', 'low', 'volume']\n",
    "    df_price[int_cols] = df_price[int_cols].astype('int', errors='ignore')\n",
    "    df_price['code'] = code\n",
    "\n",
    "    df_base = pd.concat([df_base, df_price])\n",
    "\n",
    "    if p % 100 == 0:\n",
    "        print('%d,' % p)\n",
    "        \n",
    "print(\"Done\")"
   ]
  },
  {
   "cell_type": "code",
   "execution_count": 5,
   "metadata": {},
   "outputs": [
    {
     "name": "stdout",
     "output_type": "stream",
     "text": [
      "    change  close    code        date   high    low   open   volume\n",
      "14    1200  37000  030200  1999-01-25  38200  36900  38100   396310\n",
      "13    1000  36000  030200  1999-01-26  38200  36000  37300   331550\n",
      "12    1700  37700  030200  1999-01-27  37700  36000  36200   337720\n",
      "11    1200  38900  030200  1999-01-28  39400  37700  37700   403900\n",
      "10      50  38850  030200  1999-01-29  39200  38300  38800   284270\n",
      "6     1150  40000  030200  1999-02-01  41500  39000  39000   534900\n",
      "5      550  39450  030200  1999-02-02  40000  39000  40000   244160\n",
      "4      550  38900  030200  1999-02-03  39200  38500  39200   219700\n",
      "3      200  38700  030200  1999-02-04  38750  37950  37950   132180\n",
      "2       50  38750  030200  1999-02-05  39400  38200  38700   128550\n",
      "14     200  38950  030200  1999-02-08  39500  38800  39400   208020\n",
      "13     250  38700  030200  1999-02-09  38750  37900  38750   246540\n",
      "12     600  38100  030200  1999-02-10  38500  37300  38300   230030\n",
      "11       0  38100  030200  1999-02-11  38600  37700  38450   188360\n",
      "10     450  38550  030200  1999-02-12  38600  38100  38100   188530\n",
      "6      950  37600  030200  1999-02-18  38650  37600  38650    93850\n",
      "5      900  36700  030200  1999-02-19  37100  36300  37100   289070\n",
      "4     1600  35100  030200  1999-02-22  36050  31200  36000   324480\n",
      "3      900  34200  030200  1999-02-23  35500  33300  35200   313920\n",
      "2      650  33550  030200  1999-02-24  34600  33550  34050   184910\n",
      "14     450  34000  030200  1999-02-25  34450  33050  33700   208620\n",
      "13    2000  36000  030200  1999-02-26  36000  34000  34000   295650\n",
      "12     800  36800  030200  1999-03-02  37450  35600  36800   320790\n",
      "11     200  36600  030200  1999-03-03  37300  36100  36800   177330\n",
      "10    1100  37700  030200  1999-03-04  38500  36300  36800   218200\n",
      "6     1000  38700  030200  1999-03-05  38700  37100  37500   392880\n",
      "5     1800  40500  030200  1999-03-08  40500  39200  39500   771980\n",
      "4      500  40000  030200  1999-03-09  40700  39400  40500   426390\n",
      "3      100  39900  030200  1999-03-10  40000  38900  39800   279320\n",
      "2     2100  42000  030200  1999-03-11  42000  40000  41000  1286250\n",
      "..     ...    ...     ...         ...    ...    ...    ...      ...\n",
      "14     150  27050  030200  2018-07-05  27050  26850  26850   299110\n",
      "13     500  27550  030200  2018-07-06  27550  26900  27000   323349\n",
      "12     150  27700  030200  2018-07-09  27700  27300  27350   303053\n",
      "11      50  27750  030200  2018-07-10  27900  27600  27600   345056\n",
      "10     150  27900  030200  2018-07-11  27900  27550  27550   345712\n",
      "6      450  27450  030200  2018-07-12  27950  27450  27900   482214\n",
      "5      250  27700  030200  2018-07-13  27950  27550  27550   452436\n",
      "4      200  27900  030200  2018-07-16  27950  27750  27750   343266\n",
      "3      250  28150  030200  2018-07-17  28150  27800  27950   374759\n",
      "2      400  27750  030200  2018-07-18  28200  27750  28100   433854\n",
      "14     300  27450  030200  2018-07-19  27900  27250  27800   506962\n",
      "13      50  27500  030200  2018-07-20  27750  27400  27400   323234\n",
      "12     400  27900  030200  2018-07-23  28000  27500  27700   415782\n",
      "11     100  28000  030200  2018-07-24  28000  27750  27850   459025\n",
      "10     250  28250  030200  2018-07-25  28350  28000  28100   438030\n",
      "6      350  27900  030200  2018-07-26  28250  27900  28200   563747\n",
      "5      250  28150  030200  2018-07-27  28250  27850  28100   426376\n",
      "4      100  28050  030200  2018-07-30  28350  28050  28050   390664\n",
      "3      450  28500  030200  2018-07-31  28650  28150  28200   658503\n",
      "2      150  28350  030200  2018-08-01  28700  28200  28600   337680\n",
      "14     450  28800  030200  2018-08-02  28900  28500  28550  1144037\n",
      "13     450  29250  030200  2018-08-03  29300  28850  28950  1126285\n",
      "12     350  29600  030200  2018-08-06  29650  29250  29250  1654504\n",
      "11     850  28750  030200  2018-08-07  29500  28600  29400   989660\n",
      "10      50  28700  030200  2018-08-08  28900  28550  28600   358641\n",
      "6      300  29000  030200  2018-08-09  29300  28750  28800   914128\n",
      "5       50  28950  030200  2018-08-10  29150  28700  29000   531654\n",
      "4      550  28400  030200  2018-08-13  28950  28300  28800  1140996\n",
      "3      300  28700  030200  2018-08-14  28800  28450  28500   433212\n",
      "2      250  28950  030200  2018-08-16  29250  28650  28750   818636\n",
      "\n",
      "[4800 rows x 8 columns]\n",
      "(4800, 8)\n"
     ]
    }
   ],
   "source": [
    "df = df_base.sort_values(by='date')\n",
    "df = df[df.close != 0]\n",
    "df.to_csv(\"data/stock_price.csv\", index=False)\n",
    "\n",
    "print(df)\n",
    "print(df.shape)"
   ]
  },
  {
   "cell_type": "code",
   "execution_count": 6,
   "metadata": {},
   "outputs": [
    {
     "data": {
      "text/plain": [
       "<matplotlib.axes._subplots.AxesSubplot at 0x1873d0021d0>"
      ]
     },
     "execution_count": 6,
     "metadata": {},
     "output_type": "execute_result"
    },
    {
     "data": {
      "image/png": "[encoded data removed]",
      "text/plain": [
       "<matplotlib.figure.Figure at 0x1873d002588>"
      ]
     },
     "metadata": {},
     "output_type": "display_data"
    }
   ],
   "source": [
    "vclose = df['close']\n",
    "daily_returns = (vclose/vclose.shift(1)) - 1\n",
    "daily_returns.hist(bins=100)"
   ]
  }
 ],
 "metadata": {
  "kernelspec": {
   "display_name": "Python 3",
   "language": "python",
   "name": "python3"
  },
  "language_info": {
   "codemirror_mode": {
    "name": "ipython",
    "version": 3
   },
   "file_extension": ".py",
   "mimetype": "text/x-python",
   "name": "python",
   "nbconvert_exporter": "python",
   "pygments_lexer": "ipython3",
   "version": "3.6.3"
  }
 },
 "nbformat": 4,
 "nbformat_minor": 2
}

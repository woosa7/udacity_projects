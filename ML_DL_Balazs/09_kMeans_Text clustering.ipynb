{
 "cells": [
  {
   "cell_type": "code",
   "execution_count": 1,
   "metadata": {
    "collapsed": true
   },
   "outputs": [],
   "source": [
    "import collections\n",
    "import nltk\n",
    "from nltk import word_tokenize\n",
    "from nltk.corpus import stopwords\n",
    "from nltk.stem import PorterStemmer\n",
    "from sklearn.cluster import KMeans\n",
    "from sklearn.feature_extraction.text import TfidfVectorizer"
   ]
  },
  {
   "cell_type": "code",
   "execution_count": 2,
   "metadata": {
    "collapsed": true
   },
   "outputs": [],
   "source": [
    "def tokenizer(text):\n",
    "    tokens = word_tokenize(text)\n",
    "    stemmer = PorterStemmer() \n",
    "    tokens = [stemmer.stem(t) for t in tokens if t not in stopwords.words('english')]\n",
    "    \n",
    "    return tokens"
   ]
  },
  {
   "cell_type": "code",
   "execution_count": 3,
   "metadata": {
    "collapsed": true
   },
   "outputs": [],
   "source": [
    "def cluster_sentences(sentences, nb_of_clusters=2): \n",
    "    # create tf-ifd again: stopwords -> we filter out common words (I, my, the, and...)\n",
    "    tfidf_vectorizer = TfidfVectorizer(tokenizer=tokenizer, stop_words=stopwords.words('english'), lowercase=True)\n",
    "    \n",
    "    # builds a tf-idf matrix for the sentences\n",
    "    tfidf_matrix = tfidf_vectorizer.fit_transform(sentences)\n",
    "    \n",
    "    kmeans = KMeans(n_clusters=nb_of_clusters)\n",
    "    kmeans.fit(tfidf_matrix)\n",
    "    \n",
    "    # print(kmeans.cluster_centers_)\n",
    "    \n",
    "    clusters = collections.defaultdict(list)\n",
    "    for i, label in enumerate(kmeans.labels_):\n",
    "        clusters[label].append(i)\n",
    "\n",
    "    return (dict(clusters), tfidf_matrix)"
   ]
  },
  {
   "cell_type": "code",
   "execution_count": 4,
   "metadata": {
    "collapsed": true
   },
   "outputs": [],
   "source": [
    "sentences = [\"Quantuum physics is quite important in science nowadays.\",\n",
    "             \"Software engineering is hotter and hotter topic in the silicon valley\",\n",
    "             \"Investing in stocks and trading with them are not that easy\",\n",
    "             \"FOREX is the stock market for trading currencies\",\n",
    "             \"Warren Buffet is famous for making good investments. He knows stock markets\",\n",
    "             \"Supercomputers play an important role in the field of computational science\",\n",
    "             \"Chemistry is the scientific discipline involved with compounds composed of atoms\",\n",
    "             \"Organic solar cells set remarkable energy record\",\n",
    "             \"countries around the world decided how they would protect ozone\"]"
   ]
  },
  {
   "cell_type": "code",
   "execution_count": 5,
   "metadata": {},
   "outputs": [],
   "source": [
    "nclusters = 3\n",
    "clusters, tfidf = cluster_sentences(sentences, nclusters)"
   ]
  },
  {
   "cell_type": "code",
   "execution_count": 6,
   "metadata": {},
   "outputs": [
    {
     "data": {
      "text/plain": [
       "{0: [1, 6, 7, 8], 1: [2, 3, 4], 2: [0, 5]}"
      ]
     },
     "execution_count": 6,
     "metadata": {},
     "output_type": "execute_result"
    }
   ],
   "source": [
    "clusters"
   ]
  },
  {
   "cell_type": "code",
   "execution_count": 7,
   "metadata": {},
   "outputs": [
    {
     "name": "stdout",
     "output_type": "stream",
     "text": [
      "CLUSTER  0 :\n",
      "\t Software engineering is hotter and hotter topic in the silicon valley\n",
      "\t Chemistry is the scientific discipline involved with compounds composed of atoms\n",
      "\t Organic solar cells set remarkable energy record\n",
      "\t countries around the world decided how they would protect ozone\n",
      "CLUSTER  1 :\n",
      "\t Investing in stocks and trading with them are not that easy\n",
      "\t FOREX is the stock market for trading currencies\n",
      "\t Warren Buffet is famous for making good investments. He knows stock markets\n",
      "CLUSTER  2 :\n",
      "\t Quantuum physics is quite important in science nowadays.\n",
      "\t Supercomputers play an important role in the field of computational science\n"
     ]
    }
   ],
   "source": [
    "for cluster in range(nclusters):\n",
    "    print(\"CLUSTER \",cluster,\":\")\n",
    "    for i,sentence in enumerate(clusters[cluster]):\n",
    "        print(\"\\t\",sentences[sentence])"
   ]
  },
  {
   "cell_type": "code",
   "execution_count": 8,
   "metadata": {},
   "outputs": [
    {
     "data": {
      "text/plain": [
       "<9x52 sparse matrix of type '<class 'numpy.float64'>'\n",
       "\twith 60 stored elements in Compressed Sparse Row format>"
      ]
     },
     "execution_count": 8,
     "metadata": {},
     "output_type": "execute_result"
    }
   ],
   "source": [
    "tfidf"
   ]
  }
 ],
 "metadata": {
  "kernelspec": {
   "display_name": "Python 3",
   "language": "python",
   "name": "python3"
  },
  "language_info": {
   "codemirror_mode": {
    "name": "ipython",
    "version": 3
   },
   "file_extension": ".py",
   "mimetype": "text/x-python",
   "name": "python",
   "nbconvert_exporter": "python",
   "pygments_lexer": "ipython3",
   "version": "3.6.3"
  }
 },
 "nbformat": 4,
 "nbformat_minor": 2
}

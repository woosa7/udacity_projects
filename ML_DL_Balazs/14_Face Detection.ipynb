{
 "cells": [
  {
   "cell_type": "markdown",
   "metadata": {},
   "source": [
    "PARAMETERS FOR FACE DETECTION \n",
    "\n",
    "cascadeClassifier.detectMultiScale(image, faceDetections, scaleFactor, minNeighbors, flags, minSize, maxSize)\n",
    "\n",
    "1) \tscaleFactor: Since some faces may be closer to the camera, they would appear bigger than other faces in the background -> the scale factor compensates for this\n",
    "\tSpecifying how much the image size is reduced at each image scale\n",
    "\n",
    "\tThe model has a fixed size defined during training: in the haarcascade_frontalface_alt.xml file !!!\n",
    "\tBy rescaling the input image, you can resize a larger face to a smaller one, making it detectable by the algorithm\n",
    "\n",
    "\tValue: 1.1 - 1.4\n",
    "\tSmall -> algorithm will be slow since it is more thorough\n",
    "\tHigh -> faster detection with the risk of missing some faces altogether\n",
    "\n",
    "2) \tminNeighbors: specifying how many neighbors each candidate rectangle should have to retain it\n",
    "\tValue interval: ~ 3-6\n",
    "\tHigher values -> less detections but with higher quality !!!\n",
    "\n",
    "3) \tflags: kind of a heuristic\n",
    "\tReject some image regions that contain too few or too much edges and thus can not contain the searched object\n",
    "\n",
    "4) \tminSize: objects smaller than that are ignored !!!\n",
    "\tWe can specify what is the smallest object we want to recognize \n",
    "\t[30x30] is the standard\n",
    "\n",
    "5) \tmaxSize: objects larger than that are ignored !!!"
   ]
  },
  {
   "cell_type": "code",
   "execution_count": 1,
   "metadata": {
    "collapsed": true
   },
   "outputs": [],
   "source": [
    "import cv2"
   ]
  },
  {
   "cell_type": "code",
   "execution_count": 2,
   "metadata": {
    "collapsed": true
   },
   "outputs": [],
   "source": [
    "imagePath = 'data/image1.jpg'\n",
    "cascadeClassifierPath = 'data/haarcascade_frontalface_alt.xml'"
   ]
  },
  {
   "cell_type": "code",
   "execution_count": 3,
   "metadata": {
    "collapsed": true
   },
   "outputs": [],
   "source": [
    "cascadeClassifier = cv2.CascadeClassifier(cascadeClassifierPath)\n",
    "image = cv2.imread(imagePath)\n",
    "grayImage = cv2.cvtColor(image, cv2.COLOR_BGR2GRAY)"
   ]
  },
  {
   "cell_type": "code",
   "execution_count": 4,
   "metadata": {
    "collapsed": true
   },
   "outputs": [],
   "source": [
    "detectedFaces = cascadeClassifier.detectMultiScale(grayImage,  scaleFactor=1.1, minNeighbors=10, minSize=(30, 30))"
   ]
  },
  {
   "cell_type": "code",
   "execution_count": 5,
   "metadata": {
    "collapsed": true
   },
   "outputs": [],
   "source": [
    "for(x,y, width, height) in detectedFaces:\n",
    "    cv2.rectangle(image, (x, y), (x+width, y+height), (0,0,255), 10)"
   ]
  },
  {
   "cell_type": "code",
   "execution_count": 6,
   "metadata": {},
   "outputs": [
    {
     "data": {
      "text/plain": [
       "True"
      ]
     },
     "execution_count": 6,
     "metadata": {},
     "output_type": "execute_result"
    }
   ],
   "source": [
    "cv2.imwrite('data/result.jpg', image)"
   ]
  },
  {
   "cell_type": "markdown",
   "metadata": {},
   "source": [
    "![](data/result.jpg)"
   ]
  }
 ],
 "metadata": {
  "kernelspec": {
   "display_name": "Python 3",
   "language": "python",
   "name": "python3"
  },
  "language_info": {
   "codemirror_mode": {
    "name": "ipython",
    "version": 3
   },
   "file_extension": ".py",
   "mimetype": "text/x-python",
   "name": "python",
   "nbconvert_exporter": "python",
   "pygments_lexer": "ipython3",
   "version": "3.6.3"
  }
 },
 "nbformat": 4,
 "nbformat_minor": 2
}

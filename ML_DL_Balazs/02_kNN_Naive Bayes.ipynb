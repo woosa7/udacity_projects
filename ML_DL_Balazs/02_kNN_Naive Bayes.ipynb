{
 "cells": [
  {
   "cell_type": "code",
   "execution_count": 1,
   "metadata": {},
   "outputs": [],
   "source": [
    "import pandas as pd\n",
    "import numpy as np\n",
    "from sklearn.neighbors import KNeighborsClassifier\n",
    "from sklearn.model_selection import train_test_split, cross_val_score\n",
    "from sklearn.metrics import confusion_matrix, accuracy_score\n",
    "from sklearn import preprocessing"
   ]
  },
  {
   "cell_type": "code",
   "execution_count": 2,
   "metadata": {},
   "outputs": [],
   "source": [
    "creditData = pd.read_csv(\"data/credit_data.csv\")\n",
    "\n",
    "X = creditData[[\"income\",\"age\",\"loan\",\"LTI\"]]\n",
    "y = creditData.default"
   ]
  },
  {
   "cell_type": "code",
   "execution_count": 3,
   "metadata": {},
   "outputs": [],
   "source": [
    "# Normalization = feature scaling\n",
    "# 1. min-max normalization\n",
    "# 2. z-score normalization - PCA에서 주로 사용 : X = (X - mean(X)) / Std(X)\n",
    "\n",
    "X = preprocessing.MinMaxScaler().fit_transform(X)"
   ]
  },
  {
   "cell_type": "code",
   "execution_count": 4,
   "metadata": {},
   "outputs": [],
   "source": [
    "# Accuracy\n",
    "\n",
    "# Logistic regression : 91.3 %\n",
    "# kNN                 : 98.7 %\n",
    "# Naive Bayes         : 97.3 %"
   ]
  },
  {
   "cell_type": "markdown",
   "metadata": {},
   "source": [
    "# kNN"
   ]
  },
  {
   "cell_type": "code",
   "execution_count": 5,
   "metadata": {},
   "outputs": [
    {
     "name": "stdout",
     "output_type": "stream",
     "text": [
      "001 : 0.98450\n",
      "002 : 0.97948\n",
      "003 : 0.98450\n",
      "004 : 0.98048\n",
      "005 : 0.98198\n",
      "006 : 0.98048\n",
      "007 : 0.98148\n",
      "008 : 0.98248\n",
      "009 : 0.98448\n",
      "010 : 0.98448\n",
      "011 : 0.98699\n",
      "012 : 0.98349\n",
      "013 : 0.98549\n",
      "014 : 0.98399\n",
      "015 : 0.98500\n",
      "016 : 0.98400\n",
      "017 : 0.98499\n",
      "018 : 0.98399\n",
      "019 : 0.98500\n",
      "020 : 0.98450\n",
      "021 : 0.98349\n",
      "022 : 0.98499\n",
      "023 : 0.98650\n",
      "024 : 0.98550\n",
      "025 : 0.98750\n",
      "026 : 0.98750\n",
      "027 : 0.98901\n",
      "028 : 0.98801\n",
      "029 : 0.98851\n",
      "030 : 0.98701\n",
      "031 : 0.98851\n",
      "032 : 0.98750\n",
      "033 : 0.98801\n",
      "034 : 0.98550\n",
      "035 : 0.98851\n",
      "036 : 0.98701\n",
      "037 : 0.98750\n",
      "038 : 0.98600\n",
      "039 : 0.98650\n",
      "040 : 0.98500\n",
      "041 : 0.98650\n",
      "042 : 0.98299\n",
      "043 : 0.98400\n",
      "044 : 0.98350\n",
      "045 : 0.98600\n",
      "046 : 0.98599\n",
      "047 : 0.98500\n",
      "048 : 0.98500\n",
      "049 : 0.98400\n"
     ]
    }
   ],
   "source": [
    "cross_valid_scores = []\n",
    "\n",
    "# small k : under-fitting / large k : over-fitting\n",
    "\n",
    "for k in range(1, 50):\n",
    "    knn = KNeighborsClassifier(n_neighbors=k)\n",
    "    scores = cross_val_score(knn, X, y, cv=10, scoring='accuracy')\n",
    "    cross_valid_scores.append(scores.mean())\n",
    "    print('{:03d} : {:.5f}'.format(k, scores.mean()))"
   ]
  },
  {
   "cell_type": "code",
   "execution_count": 6,
   "metadata": {},
   "outputs": [
    {
     "name": "stdout",
     "output_type": "stream",
     "text": [
      "Optimal k with cross-validation:  27\n"
     ]
    }
   ],
   "source": [
    "kval = np.argmax(cross_valid_scores)+1\n",
    "print(\"Optimal k with cross-validation: \", kval)"
   ]
  },
  {
   "cell_type": "code",
   "execution_count": 7,
   "metadata": {},
   "outputs": [],
   "source": [
    "X_train, X_test, y_train, y_test = train_test_split(X, y, test_size=0.3, random_state=0)"
   ]
  },
  {
   "cell_type": "code",
   "execution_count": 8,
   "metadata": {},
   "outputs": [
    {
     "name": "stdout",
     "output_type": "stream",
     "text": [
      "[[523   1]\n",
      " [  7  69]]\n",
      "0.9866666666666667\n"
     ]
    }
   ],
   "source": [
    "model = KNeighborsClassifier(n_neighbors = kval)\n",
    "model.fit(X_train, y_train)\n",
    "\n",
    "predictions = model.predict(X_test)\n",
    "\n",
    "print(confusion_matrix(y_test, predictions))\n",
    "print(accuracy_score(y_test, predictions))"
   ]
  },
  {
   "cell_type": "markdown",
   "metadata": {},
   "source": [
    "# Naive Bayes"
   ]
  },
  {
   "cell_type": "code",
   "execution_count": 9,
   "metadata": {},
   "outputs": [],
   "source": [
    "from sklearn.naive_bayes import GaussianNB"
   ]
  },
  {
   "cell_type": "code",
   "execution_count": 10,
   "metadata": {},
   "outputs": [
    {
     "name": "stdout",
     "output_type": "stream",
     "text": [
      "[[522   2]\n",
      " [ 14  62]]\n",
      "0.9733333333333334\n"
     ]
    }
   ],
   "source": [
    "model_NB = GaussianNB()\n",
    "model_NB.fit(X_train, y_train)\n",
    "\n",
    "predictions = model_NB.predict(X_test)\n",
    "\n",
    "print(confusion_matrix(y_test, predictions))\n",
    "print(accuracy_score(y_test,predictions))"
   ]
  }
 ],
 "metadata": {
  "kernelspec": {
   "display_name": "Python 3",
   "language": "python",
   "name": "python3"
  },
  "language_info": {
   "codemirror_mode": {
    "name": "ipython",
    "version": 3
   },
   "file_extension": ".py",
   "mimetype": "text/x-python",
   "name": "python",
   "nbconvert_exporter": "python",
   "pygments_lexer": "ipython3",
   "version": "3.6.4"
  }
 },
 "nbformat": 4,
 "nbformat_minor": 2
}

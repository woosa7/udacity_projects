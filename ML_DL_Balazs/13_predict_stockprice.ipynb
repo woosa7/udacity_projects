{
 "cells": [
  {
   "cell_type": "code",
   "execution_count": 1,
   "metadata": {
    "collapsed": true
   },
   "outputs": [],
   "source": [
    "import pandas as pd\n",
    "import numpy as np\n",
    "from sklearn.linear_model import LogisticRegression\n",
    "from sklearn.neighbors import KNeighborsClassifier\n",
    "from sklearn.svm import SVC\n",
    "from sklearn.metrics import confusion_matrix"
   ]
  },
  {
   "cell_type": "markdown",
   "metadata": {},
   "source": [
    "## create lag data"
   ]
  },
  {
   "cell_type": "code",
   "execution_count": 2,
   "metadata": {},
   "outputs": [
    {
     "name": "stdout",
     "output_type": "stream",
     "text": [
      "(4795, 15)\n",
      "   change  close   code        date   high    low   open  volume      Lag1  \\\n",
      "5    1150  40000  30200  1999-02-01  41500  39000  39000  534900  0.029601   \n",
      "6     550  39450  30200  1999-02-02  40000  39000  40000  244160 -0.013750   \n",
      "7     550  38900  30200  1999-02-03  39200  38500  39200  219700 -0.013942   \n",
      "8     200  38700  30200  1999-02-04  38750  37950  37950  132180 -0.005141   \n",
      "9      50  38750  30200  1999-02-05  39400  38200  38700  128550  0.001292   \n",
      "\n",
      "       Lag2      Lag3      Lag4      Lag5      TLag  direction  \n",
      "5  0.028278  0.061008  0.111111  0.081081  0.311079        1.0  \n",
      "6  0.015444  0.014139  0.046419  0.095833  0.158085        1.0  \n",
      "7 -0.027500  0.001287  0.000000  0.031830 -0.008324       -1.0  \n",
      "8 -0.019011 -0.032500 -0.003861 -0.005141 -0.065655       -1.0  \n",
      "9 -0.003856 -0.017744 -0.031250 -0.002574 -0.054132       -1.0  \n"
     ]
    }
   ],
   "source": [
    "df = pd.read_csv('data/stock_price.csv')\n",
    "\n",
    "# create lag data\n",
    "vclose = df['close']\n",
    "df['Lag1'] = vclose / vclose.shift(1) - 1\n",
    "df['Lag2'] = vclose / vclose.shift(2) - 1\n",
    "df['Lag3'] = vclose / vclose.shift(3) - 1\n",
    "df['Lag4'] = vclose / vclose.shift(4) - 1\n",
    "df['Lag5'] = vclose / vclose.shift(5) - 1\n",
    "\n",
    "df = df.dropna()\n",
    "\n",
    "# 주가 상승하락 기준1\n",
    "# df['direction'] = np.sign(df['Lag1'])\n",
    "# df.loc[df.direction == 0, 'direction'] = 1.0\n",
    "\n",
    "# 주가 상승하락 기준2\n",
    "df['TLag'] = df['Lag1']+df['Lag2']+df['Lag3']+df['Lag4']+df['Lag5']\n",
    "df['direction'] = np.sign(df['TLag'])\n",
    "\n",
    "print(df.shape)\n",
    "print(df.head())"
   ]
  },
  {
   "cell_type": "markdown",
   "metadata": {},
   "source": [
    "## split train / test"
   ]
  },
  {
   "cell_type": "code",
   "execution_count": 3,
   "metadata": {},
   "outputs": [
    {
     "name": "stdout",
     "output_type": "stream",
     "text": [
      "(4495, 5)\n",
      "(300, 5)\n"
     ]
    }
   ],
   "source": [
    "X = df[['Lag1','Lag2','Lag3','Lag4','Lag5']]\n",
    "y = df['direction']\n",
    "\n",
    "idx = 4495\n",
    "X_train = X[:idx]\n",
    "y_train = y[:idx]\n",
    "X_test = X[idx:]\n",
    "y_test = y[idx:]\n",
    "\n",
    "print(X_train.shape)\n",
    "print(X_test.shape)"
   ]
  },
  {
   "cell_type": "markdown",
   "metadata": {},
   "source": [
    "## Logistic Regression"
   ]
  },
  {
   "cell_type": "code",
   "execution_count": 4,
   "metadata": {},
   "outputs": [
    {
     "name": "stdout",
     "output_type": "stream",
     "text": [
      "[[162   1]\n",
      " [  9 128]]\n",
      "\n",
      "0.966666666667\n"
     ]
    }
   ],
   "source": [
    "model = LogisticRegression()\n",
    "model.fit(X_train, y_train)\n",
    "\n",
    "y_pred = model.predict(X_test)\n",
    "\n",
    "print(confusion_matrix(y_test, y_pred))\n",
    "print('')\n",
    "print(model.score(X_test, y_test))"
   ]
  },
  {
   "cell_type": "markdown",
   "metadata": {},
   "source": [
    "## kNN"
   ]
  },
  {
   "cell_type": "code",
   "execution_count": 5,
   "metadata": {},
   "outputs": [
    {
     "name": "stdout",
     "output_type": "stream",
     "text": [
      "[[162   1]\n",
      " [  0 137]]\n",
      "\n",
      "0.996666666667\n"
     ]
    }
   ],
   "source": [
    "model_knn = KNeighborsClassifier(100)\n",
    "model_knn.fit(X_train, y_train)\n",
    "\n",
    "y_pred = model_knn.predict(X_test)\n",
    "\n",
    "print(confusion_matrix(y_test, y_pred))\n",
    "print('')\n",
    "print(model_knn.score(X_test, y_test))"
   ]
  },
  {
   "cell_type": "markdown",
   "metadata": {},
   "source": [
    "## SVM"
   ]
  },
  {
   "cell_type": "code",
   "execution_count": 6,
   "metadata": {},
   "outputs": [
    {
     "name": "stdout",
     "output_type": "stream",
     "text": [
      "[[162   1]\n",
      " [  5 132]]\n",
      "\n",
      "0.996666666667\n"
     ]
    }
   ],
   "source": [
    "model_svc = SVC(kernel='linear')\n",
    "model_svc.fit(X_train, y_train)\n",
    "\n",
    "y_pred = model_svc.predict(X_test)\n",
    "\n",
    "print(confusion_matrix(y_test, y_pred))\n",
    "print('')\n",
    "print(model_knn.score(X_test, y_test))"
   ]
  }
 ],
 "metadata": {
  "kernelspec": {
   "display_name": "Python 3",
   "language": "python",
   "name": "python3"
  },
  "language_info": {
   "codemirror_mode": {
    "name": "ipython",
    "version": 3
   },
   "file_extension": ".py",
   "mimetype": "text/x-python",
   "name": "python",
   "nbconvert_exporter": "python",
   "pygments_lexer": "ipython3",
   "version": "3.6.3"
  }
 },
 "nbformat": 4,
 "nbformat_minor": 2
}
